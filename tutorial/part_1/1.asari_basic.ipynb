{
 "cells": [
  {
   "cell_type": "markdown",
   "metadata": {
    "colab_type": "text",
    "id": "view-in-github"
   },
   "source": [
    "<a href=\"https://colab.research.google.com/drive/11ZWqmt_QEfOR6OiHhsoG4eoPZZh5dT6z/" target=\"_parent\"><img src=\"https://colab.research.google.com/assets/colab-badge.svg\" alt=\"Open In Colab\"/></a>"
   ]
  },
  {
   "cell_type": "code",
   "execution_count": null,
   "metadata": {},
   "outputs": [],
   "source": [
    "# first install asari-metabolomics\n",
    "\n",
    "!pip3 install asari-metabolomics"
   ]
  },
  {
   "cell_type": "code",
   "execution_count": null,
   "metadata": {},
   "outputs": [],
   "source": [
    "# now lets download the example dataset\n",
    "\n",
    "import requests, zipfile, io\n",
    "r = requests.get(\"https://github.com/shuzhao-li-lab/data/raw/main/data/MT02Dataset.zip\")\n",
    "z = zipfile.ZipFile(io.BytesIO(r.content))\n",
    "z.extractall(\".\")\n"
   ]
  },
  {
   "cell_type": "code",
   "execution_count": null,
   "metadata": {},
   "outputs": [],
   "source": [
    "# now lets run asari on the downloaded mzML files\n",
    "\n",
    "# note that by default asari assumes positive ionization mode and a mass accuracy of 5 ppm. \n",
    "# these can be changed using optional parameters.\n",
    "\n",
    "!asari process -i ./MT02Dataset"
   ]
  },
  {
   "cell_type": "code",
   "execution_count": null,
   "metadata": {},
   "outputs": [],
   "source": [
    "# lets find the asari output and the appropriate paths\n",
    "\n",
    "import os\n",
    "asari_subdir = None\n",
    "for x in os.listdir(\".\"):\n",
    "    if x.startswith(\"output_asari_project\"):\n",
    "        asari_subdir = os.path.join(\".\", x)\n",
    "preferred_Feature_table = os.path.join(asari_subdir, \"preferred_Feature_table.tsv\")\n",
    "feature_annotations = os.path.join(asari_subdir, \"Feature_annotation.tsv\")\n"
   ]
  },
  {
   "cell_type": "code",
   "execution_count": null,
   "metadata": {},
   "outputs": [],
   "source": [
    "# lets checkout our feature table\n",
    "\n",
    "import pandas as pd\n",
    "\n",
    "ft = pd.read_csv(preferred_Feature_table, sep=\"\\t\")\n",
    "print(\"Num_Samples = \", ft.shape[1]-11)\n",
    "print(\"Num_Features = \", ft.shape[0])"
   ]
  },
  {
   "cell_type": "code",
   "execution_count": null,
   "metadata": {},
   "outputs": [],
   "source": [
    "# this shows the top rows of the feature table\n",
    "ft.head()"
   ]
  },
  {
   "cell_type": "code",
   "execution_count": null,
   "metadata": {},
   "outputs": [],
   "source": [
    "annots = pd.read_csv(feature_annotations, sep=\"\\t\")\n",
    "annots.head()"
   ]
  }
 ],
 "metadata": {
  "kernelspec": {
   "display_name": "Python 3",
   "language": "python",
   "name": "python3"
  },
  "language_info": {
   "codemirror_mode": {
    "name": "ipython",
    "version": 3
   },
   "file_extension": ".py",
   "mimetype": "text/x-python",
   "name": "python",
   "nbconvert_exporter": "python",
   "pygments_lexer": "ipython3",
   "version": "3.9.6"
  }
 },
 "nbformat": 4,
 "nbformat_minor": 2
}
