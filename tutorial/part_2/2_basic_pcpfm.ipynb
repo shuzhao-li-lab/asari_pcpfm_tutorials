{
  "cells": [
    {
      "cell_type": "markdown",
      "metadata": {
        "id": "UkjWqgDhzk9T"
      },
      "source": [
        "<a href=\"https://colab.research.google.com/drive/1eW0A7G2oePdacUy8NtcuWkasKOJSa_Z1#scrollTo=Wv5kxg6fOcB8\" target=\"_parent\"><img src=\"https://colab.research.google.com/assets/colab-badge.svg\" alt=\"Open In Colab\"/></a>"
      ]
    },
    {
      "cell_type": "code",
      "execution_count": null,
      "metadata": {
        "colab": {
          "base_uri": "https://localhost:8080/"
        },
        "id": "PBILzYQ7z0C4",
        "outputId": "8324d799-1202-4021-a1ce-e927a69d9a6f"
      },
      "outputs": [],
      "source": [
        "# lets start by installing the pipeline\n",
        "\n",
        "!pip install pcpfm"
      ]
    },
    {
      "cell_type": "code",
      "execution_count": null,
      "metadata": {
        "id": "f9r137tn0cBf"
      },
      "outputs": [],
      "source": [
        "# now lets download the test dataset:\n",
        "\n",
        "import requests, zipfile, io\n",
        "r = requests.get(\"https://github.com/shuzhao-li-lab/data/raw/main/data/MT02Dataset.zip\")\n",
        "z = zipfile.ZipFile(io.BytesIO(r.content))\n",
        "z.extractall(\".\")"
      ]
    },
    {
      "cell_type": "code",
      "execution_count": null,
      "metadata": {
        "colab": {
          "base_uri": "https://localhost:8080/"
        },
        "id": "6YwTrGHX0SWf",
        "outputId": "7c4afcea-bff1-448b-8367-cdc5d8a9b30a"
      },
      "outputs": [],
      "source": [
        "# now we need to generate a very basic CSV file to tell the pipeline where the mzML files are located.\n",
        "# future versions of the pipeline will not require this step.\n",
        "\n",
        "import pandas as pd\n",
        "import os\n",
        "\n",
        "metadata_dicts = []\n",
        "for x in os.listdir(\"./MT02Dataset\"):\n",
        "  if x.endswith(\".mzML\"):\n",
        "    metadata_dicts.append({\n",
        "        \"File Name\": x.rstrip(\".mzML\"),\n",
        "        \"Sample Type\": \"Unknown\",\n",
        "        \"Filepath\": os.path.join(os.path.abspath(\"./MT02Dataset\"), x)\n",
        "    })\n",
        "    print(x)\n",
        "metadata_df = pd.DataFrame(metadata_dicts)\n",
        "metadata_df.to_csv(\"metadata.csv\")\n"
      ]
    },
    {
      "cell_type": "code",
      "execution_count": null,
      "metadata": {
        "colab": {
          "base_uri": "https://localhost:8080/"
        },
        "id": "3Q1mSXCM4F4M",
        "outputId": "ccd674bf-945a-4e8e-9715-3c243da8f391"
      },
      "outputs": [],
      "source": [
        "# Now lets start working with the pipeline. The assemble command creates the experiment object\n",
        "# that stores all intermediates.\n",
        "\n",
        "!pcpfm assemble -o . -j pcpfm_tutorial_basic -s ./metadata.csv"
      ]
    },
    {
      "cell_type": "code",
      "execution_count": null,
      "metadata": {
        "colab": {
          "base_uri": "https://localhost:8080/"
        },
        "id": "pJpVitks4PIi",
        "outputId": "d5807219-5e1b-48b9-f28a-95552eb75a0b"
      },
      "outputs": [],
      "source": [
        "# here is a list of the output directories in the pipeline directory\n",
        "os.listdir(\"./pcpfm_tutorial_basic\")"
      ]
    },
    {
      "cell_type": "code",
      "execution_count": null,
      "metadata": {
        "colab": {
          "base_uri": "https://localhost:8080/"
        },
        "id": "UG6P80Kl4lka",
        "outputId": "abb1cf7a-4154-4628-ee2f-f3d6a5841b5f"
      },
      "outputs": [],
      "source": [
        "!pcpfm asari -i pcpfm_tutorial_basic"
      ]
    },
    {
      "cell_type": "code",
      "execution_count": null,
      "metadata": {
        "colab": {
          "base_uri": "https://localhost:8080/"
        },
        "id": "XqOeR-T_KWRn",
        "outputId": "6dd1bfc0-5567-4561-9e08-ffd86764a0e3"
      },
      "outputs": [],
      "source": [
        "# now lets examine the feature table as we did previously\n",
        "# here we can load the JSON file within the experiment directory to get the feature table path\n",
        "import json\n",
        "\n",
        "exp = json.load(open(\"./pcpfm_tutorial_basic/experiment.json\"))\n",
        "exp[\"feature_tables\"]\n",
        "\n",
        "# see we have two feature tables: 'preferred' and 'full'"
      ]
    },
    {
      "cell_type": "code",
      "execution_count": null,
      "metadata": {
        "colab": {
          "base_uri": "https://localhost:8080/"
        },
        "id": "06aso91-Ms8l",
        "outputId": "93369cd8-a7aa-4de0-ff44-954690a409e7"
      },
      "outputs": [],
      "source": [
        "# we should have the same feature table as in the asari standalone example\n",
        "\n",
        "ft = pd.read_csv(exp[\"feature_tables\"][\"preferred\"], sep=\"\\t\")\n",
        "print(\"Num Samples = \", ft.shape[1]-11)\n",
        "print(\"Num Features = \", ft.shape[0])"
      ]
    },
    {
      "cell_type": "code",
      "execution_count": null,
      "metadata": {
        "colab": {
          "base_uri": "https://localhost:8080/",
          "height": 226
        },
        "id": "Wv5kxg6fOcB8",
        "outputId": "35cbb544-e1b4-4168-a572-0a8a355c59a7"
      },
      "outputs": [],
      "source": [
        "ft.head()"
      ]
    }
  ],
  "metadata": {
    "colab": {
      "provenance": []
    },
    "kernelspec": {
      "display_name": "Python 3",
      "name": "python3"
    },
    "language_info": {
      "codemirror_mode": {
        "name": "ipython",
        "version": 3
      },
      "file_extension": ".py",
      "mimetype": "text/x-python",
      "name": "python",
      "nbconvert_exporter": "python",
      "pygments_lexer": "ipython3",
      "version": "3.9.6"
    }
  },
  "nbformat": 4,
  "nbformat_minor": 0
}
